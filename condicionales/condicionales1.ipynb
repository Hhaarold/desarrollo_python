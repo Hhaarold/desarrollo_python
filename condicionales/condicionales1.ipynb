{
 "cells": [
  {
   "cell_type": "markdown",
   "id": "3d912494",
   "metadata": {},
   "source": [
    "# condicionales"
   ]
  },
  {
   "cell_type": "markdown",
   "id": "a55e124c",
   "metadata": {},
   "source": [
    "#### programa que me pregunta si esta lloviendo o no y decido si sacar sombrilla"
   ]
  },
  {
   "cell_type": "code",
   "execution_count": null,
   "id": "c65ce883",
   "metadata": {},
   "outputs": [
    {
     "name": "stdout",
     "output_type": "stream",
     "text": [
      "respuesta no valida. Responder si o no\n"
     ]
    }
   ],
   "source": [
    "respuesta = (input(\"¿esta lloviendo?: \")).lower()\n",
    "\n",
    "if respuesta == \"si\":\n",
    "    print(\" sacar sombrilla\")\n",
    "elif respuesta == \"no\":\n",
    "    print(\"no sacar sombrilla\")\n",
    "else:\n",
    "    print(\"respuesta no valida. Responder si o no\")\n",
    "    "
   ]
  },
  {
   "cell_type": "markdown",
   "id": "e8c68bd5",
   "metadata": {},
   "source": [
    "#### programa que verifica si es mayor o menor de edad"
   ]
  },
  {
   "cell_type": "code",
   "execution_count": null,
   "id": "dfc64078",
   "metadata": {},
   "outputs": [
    {
     "name": "stdout",
     "output_type": "stream",
     "text": [
      "entrada denegada\n"
     ]
    }
   ],
   "source": [
    "respuesta = int(input(\"cual es tu edad de manera numerica: \"))\n",
    "if respuesta < 18:\n",
    "    print(\"entrada denegada\")\n",
    "elif respuesta >= 18:\n",
    "    print(\"entrada autorizada\")\n",
    "else:\n",
    "    print(\"respuesta incorrecta\")"
   ]
  },
  {
   "cell_type": "markdown",
   "id": "780c4779",
   "metadata": {},
   "source": [
    "#### hacer un programa como si fuera un login con usuario y contraseña\n",
    "* si el usuario concide pero el usuario no imprime usuario correcto pero contraseña incorrecta\n",
    "* si ninguno concide usuario y cpntraseña incorrecto\n",
    "* login exitoso si ambos son correctodd"
   ]
  },
  {
   "cell_type": "code",
   "execution_count": 28,
   "id": "4758ecff",
   "metadata": {},
   "outputs": [
    {
     "name": "stdout",
     "output_type": "stream",
     "text": [
      "login exitoso\n"
     ]
    }
   ],
   "source": [
    "usuario = \"pepe\"\n",
    "contrasena = \"12345678910\"\n",
    "usuario_in = input(\"ingresa el usuario: \")\n",
    "contasena_in = input(\"ingresa contraseña: \")\n",
    "if contrasena == contasena_in and usuario == usuario_in:\n",
    "    print(\"login exitoso\")\n",
    "elif usuario==usuario_in and contasena_in != contrasena:\n",
    "    print(\"contraseña incorrecta\")\n",
    "else: \n",
    "    print(\"usuario y contraseña incorrecta\")"
   ]
  }
 ],
 "metadata": {
  "kernelspec": {
   "display_name": "Python 3",
   "language": "python",
   "name": "python3"
  },
  "language_info": {
   "codemirror_mode": {
    "name": "ipython",
    "version": 3
   },
   "file_extension": ".py",
   "mimetype": "text/x-python",
   "name": "python",
   "nbconvert_exporter": "python",
   "pygments_lexer": "ipython3",
   "version": "3.13.3"
  }
 },
 "nbformat": 4,
 "nbformat_minor": 5
}
