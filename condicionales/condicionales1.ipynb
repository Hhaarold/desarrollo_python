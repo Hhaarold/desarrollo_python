{
 "cells": [
  {
   "cell_type": "markdown",
   "id": "3d912494",
   "metadata": {},
   "source": [
    "# condicionales"
   ]
  },
  {
   "cell_type": "markdown",
   "id": "a55e124c",
   "metadata": {},
   "source": [
    "#### programa que me pregunta si esta lloviendo o no y decido si sacar sombrilla"
   ]
  },
  {
   "cell_type": "code",
   "execution_count": 9,
   "id": "c65ce883",
   "metadata": {},
   "outputs": [
    {
     "name": "stdout",
     "output_type": "stream",
     "text": [
      "respuesta no valida. Responder si o no\n"
     ]
    }
   ],
   "source": [
    "respuesta = (input(\"¿esta lloviendo?: \")).lower()\n",
    "\n",
    "if respuesta == \"si\":\n",
    "    print(\" sacar sombrilla\")\n",
    "elif respuesta == \"no\":\n",
    "    print(\"no sacar sombrilla\")\n",
    "else:\n",
    "    print(\"respuesta no valida. Responder si o no\")\n",
    "    "
   ]
  },
  {
   "cell_type": "markdown",
   "id": "e8c68bd5",
   "metadata": {},
   "source": [
    "#### programa que verifica si es mayor o menor de edad"
   ]
  },
  {
   "cell_type": "code",
   "execution_count": 10,
   "id": "dfc64078",
   "metadata": {},
   "outputs": [
    {
     "ename": "KeyboardInterrupt",
     "evalue": "Interrupted by user",
     "output_type": "error",
     "traceback": [
      "\u001b[31m---------------------------------------------------------------------------\u001b[39m",
      "\u001b[31mKeyboardInterrupt\u001b[39m                         Traceback (most recent call last)",
      "\u001b[36mCell\u001b[39m\u001b[36m \u001b[39m\u001b[32mIn[10]\u001b[39m\u001b[32m, line 1\u001b[39m\n\u001b[32m----> \u001b[39m\u001b[32m1\u001b[39m respuesta = \u001b[38;5;28mint\u001b[39m(\u001b[38;5;28;43minput\u001b[39;49m\u001b[43m(\u001b[49m\u001b[33;43m\"\u001b[39;49m\u001b[33;43mcual es tu edad de manera numerica: \u001b[39;49m\u001b[33;43m\"\u001b[39;49m\u001b[43m)\u001b[49m)\n\u001b[32m      2\u001b[39m \u001b[38;5;28;01mif\u001b[39;00m respuesta < \u001b[32m18\u001b[39m:\n\u001b[32m      3\u001b[39m     \u001b[38;5;28mprint\u001b[39m(\u001b[33m\"\u001b[39m\u001b[33mentrada denegada\u001b[39m\u001b[33m\"\u001b[39m)\n",
      "\u001b[36mFile \u001b[39m\u001b[32m~\\AppData\\Roaming\\Python\\Python313\\site-packages\\ipykernel\\kernelbase.py:1282\u001b[39m, in \u001b[36mKernel.raw_input\u001b[39m\u001b[34m(self, prompt)\u001b[39m\n\u001b[32m   1280\u001b[39m     msg = \u001b[33m\"\u001b[39m\u001b[33mraw_input was called, but this frontend does not support input requests.\u001b[39m\u001b[33m\"\u001b[39m\n\u001b[32m   1281\u001b[39m     \u001b[38;5;28;01mraise\u001b[39;00m StdinNotImplementedError(msg)\n\u001b[32m-> \u001b[39m\u001b[32m1282\u001b[39m \u001b[38;5;28;01mreturn\u001b[39;00m \u001b[38;5;28;43mself\u001b[39;49m\u001b[43m.\u001b[49m\u001b[43m_input_request\u001b[49m\u001b[43m(\u001b[49m\n\u001b[32m   1283\u001b[39m \u001b[43m    \u001b[49m\u001b[38;5;28;43mstr\u001b[39;49m\u001b[43m(\u001b[49m\u001b[43mprompt\u001b[49m\u001b[43m)\u001b[49m\u001b[43m,\u001b[49m\n\u001b[32m   1284\u001b[39m \u001b[43m    \u001b[49m\u001b[38;5;28;43mself\u001b[39;49m\u001b[43m.\u001b[49m\u001b[43m_parent_ident\u001b[49m\u001b[43m[\u001b[49m\u001b[33;43m\"\u001b[39;49m\u001b[33;43mshell\u001b[39;49m\u001b[33;43m\"\u001b[39;49m\u001b[43m]\u001b[49m\u001b[43m,\u001b[49m\n\u001b[32m   1285\u001b[39m \u001b[43m    \u001b[49m\u001b[38;5;28;43mself\u001b[39;49m\u001b[43m.\u001b[49m\u001b[43mget_parent\u001b[49m\u001b[43m(\u001b[49m\u001b[33;43m\"\u001b[39;49m\u001b[33;43mshell\u001b[39;49m\u001b[33;43m\"\u001b[39;49m\u001b[43m)\u001b[49m\u001b[43m,\u001b[49m\n\u001b[32m   1286\u001b[39m \u001b[43m    \u001b[49m\u001b[43mpassword\u001b[49m\u001b[43m=\u001b[49m\u001b[38;5;28;43;01mFalse\u001b[39;49;00m\u001b[43m,\u001b[49m\n\u001b[32m   1287\u001b[39m \u001b[43m\u001b[49m\u001b[43m)\u001b[49m\n",
      "\u001b[36mFile \u001b[39m\u001b[32m~\\AppData\\Roaming\\Python\\Python313\\site-packages\\ipykernel\\kernelbase.py:1325\u001b[39m, in \u001b[36mKernel._input_request\u001b[39m\u001b[34m(self, prompt, ident, parent, password)\u001b[39m\n\u001b[32m   1322\u001b[39m \u001b[38;5;28;01mexcept\u001b[39;00m \u001b[38;5;167;01mKeyboardInterrupt\u001b[39;00m:\n\u001b[32m   1323\u001b[39m     \u001b[38;5;66;03m# re-raise KeyboardInterrupt, to truncate traceback\u001b[39;00m\n\u001b[32m   1324\u001b[39m     msg = \u001b[33m\"\u001b[39m\u001b[33mInterrupted by user\u001b[39m\u001b[33m\"\u001b[39m\n\u001b[32m-> \u001b[39m\u001b[32m1325\u001b[39m     \u001b[38;5;28;01mraise\u001b[39;00m \u001b[38;5;167;01mKeyboardInterrupt\u001b[39;00m(msg) \u001b[38;5;28;01mfrom\u001b[39;00m\u001b[38;5;250m \u001b[39m\u001b[38;5;28;01mNone\u001b[39;00m\n\u001b[32m   1326\u001b[39m \u001b[38;5;28;01mexcept\u001b[39;00m \u001b[38;5;167;01mException\u001b[39;00m:\n\u001b[32m   1327\u001b[39m     \u001b[38;5;28mself\u001b[39m.log.warning(\u001b[33m\"\u001b[39m\u001b[33mInvalid Message:\u001b[39m\u001b[33m\"\u001b[39m, exc_info=\u001b[38;5;28;01mTrue\u001b[39;00m)\n",
      "\u001b[31mKeyboardInterrupt\u001b[39m: Interrupted by user"
     ]
    }
   ],
   "source": [
    "respuesta = int(input(\"cual es tu edad de manera numerica: \"))\n",
    "if respuesta < 18:\n",
    "    print(\"entrada denegada\")\n",
    "elif respuesta >= 18:\n",
    "    print(\"entrada autorizada\")\n",
    "else:\n",
    "    print(\"respuesta incorrecta\")"
   ]
  },
  {
   "cell_type": "markdown",
   "id": "780c4779",
   "metadata": {},
   "source": [
    "#### hacer un programa como si fuera un login con usuario y contraseña\n",
    "* si el usuario concide pero el usuario no imprime usuario correcto pero contraseña incorrecta\n",
    "* si ninguno concide usuario y cpntraseña incorrecto\n",
    "* login exitoso si ambos son correctodd"
   ]
  },
  {
   "cell_type": "code",
   "execution_count": null,
   "id": "4758ecff",
   "metadata": {},
   "outputs": [
    {
     "name": "stdout",
     "output_type": "stream",
     "text": [
      "login exitoso\n"
     ]
    }
   ],
   "source": [
    "usuario = \"pepe\"\n",
    "contrasena = \"12345678910\"\n",
    "usuario_in = input(\"ingresa el usuario: \")\n",
    "contasena_in = input(\"ingresa contraseña: \")\n",
    "if contrasena == contasena_in and usuario == usuario_in:\n",
    "    print(\"login exitoso\")\n",
    "elif usuario==usuario_in and contasena_in != contrasena:\n",
    "    print(\"contraseña incorrecta\")\n",
    "else: \n",
    "    print(\"usuario y contraseña incorrecta\")"
   ]
  },
  {
   "cell_type": "markdown",
   "id": "e9bd7bf4",
   "metadata": {},
   "source": [
    "#### un algoritmo para una empresa de prestamos\n",
    "* la persona elegible para el pretamo si: \n",
    " * tiene ingresos superiores a 2000 y puntaje crediticio superior a 700\n",
    " * tiene ingresos superiores a 5000 y no importa el puntaje"
   ]
  },
  {
   "cell_type": "code",
   "execution_count": null,
   "id": "a0681c97",
   "metadata": {},
   "outputs": [
    {
     "name": "stdout",
     "output_type": "stream",
     "text": [
      "tu eres elegible para el prestamo\n"
     ]
    }
   ],
   "source": [
    "ingresos_mensuales = int(input(\"ingresa tus ingresos mensuales: \"))\n",
    "puntaje_crediticio = int(input(\"ingresa tu puntaje crediticio: \"))\n",
    "if ingresos_mensuales > 5000:\n",
    "    print(\"tu eres elegible para el prestamo\")\n",
    "elif ingresos_mensuales > 2000 and ingresos_mensuales <= 5000 and puntaje_crediticio > 700:\n",
    "    print(\"tu eres elegible para el prestamo\")\n",
    "else:\n",
    "    print(\"no eres elegible para el prestamo\")"
   ]
  },
  {
   "cell_type": "markdown",
   "id": "4a1ec540",
   "metadata": {},
   "source": [
    "#### programa que clasifique un dia segun su clima y la hora del dia\n",
    " * clima --> soleado and hora entre las 9 y las 18> dia perfecto\n",
    " * clima --> lluvioso and temperatura < 10 grados > dia nublado\n",
    " * otros casos --> dia normal\n"
   ]
  },
  {
   "cell_type": "code",
   "execution_count": 19,
   "id": "6c388981",
   "metadata": {},
   "outputs": [
    {
     "name": "stdout",
     "output_type": "stream",
     "text": [
      "dia normal\n"
     ]
    }
   ],
   "source": [
    "clima = input(\"ingresa el clima (soleado)(lluvioso)\").upper\n",
    "hora = int(input(\"dime la hora y unicamente la hora en formato 24 horas:\"))\n",
    "temperatura = int(input(\"ingresa la temperatura en grados C y que sea un numero entero:\"))\n",
    "if  clima ==\"SOLEADO\"  and (hora > 9 and hora < 18):\n",
    "    print(\"dia perfecto\")\n",
    "elif clima == \"LLUVIOSO\"  and temperatura < 10:\n",
    "    print(\"dia lluvioso\")\n",
    "else:\n",
    "    print(\"dia normal\")"
   ]
  }
 ],
 "metadata": {
  "kernelspec": {
   "display_name": "Python 3",
   "language": "python",
   "name": "python3"
  },
  "language_info": {
   "codemirror_mode": {
    "name": "ipython",
    "version": 3
   },
   "file_extension": ".py",
   "mimetype": "text/x-python",
   "name": "python",
   "nbconvert_exporter": "python",
   "pygments_lexer": "ipython3",
   "version": "3.13.3"
  }
 },
 "nbformat": 4,
 "nbformat_minor": 5
}
